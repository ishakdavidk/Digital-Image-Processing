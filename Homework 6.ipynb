{
 "cells": [
  {
   "cell_type": "code",
   "execution_count": null,
   "metadata": {},
   "outputs": [],
   "source": [
    "import cv2\n",
    "import numpy as np\n",
    "from matplotlib import pyplot as plt"
   ]
  },
  {
   "cell_type": "code",
   "execution_count": null,
   "metadata": {},
   "outputs": [],
   "source": [
    "def transform(image, original_pts, desired_pts, title_list):\n",
    "    for i in range(4):\n",
    "        cv2.circle(image, tuple(original_pts[i]), 5, (0, 0, 255), -1)\n",
    "    \n",
    "    matrix = cv2.getPerspectiveTransform(original_pts, desired_pts)\n",
    "    result = cv2.warpPerspective(image, matrix, (1024, 768))\n",
    "\n",
    "    res_show = []\n",
    "    res_show.append(image)\n",
    "    res_show.append(result)\n",
    "    \n",
    "    fig = plt.figure(figsize=(13, 9))\n",
    "\n",
    "    for i in range(2):\n",
    "        fig.add_subplot(1,2,i+1)\n",
    "        plt.title(title_list[i])\n",
    "        plt.imshow(cv2.cvtColor(res_show[i], cv2.COLOR_BGR2RGB))\n",
    "        plt.axis('off')\n",
    "\n",
    "    plt.tight_layout()\n",
    "    plt.show()"
   ]
  }
 ],
 "metadata": {
  "kernelspec": {
   "display_name": "Python [conda env:tf2_gpu]",
   "language": "python",
   "name": "conda-env-tf2_gpu-py"
  },
  "language_info": {
   "codemirror_mode": {
    "name": "ipython",
    "version": 3
   },
   "file_extension": ".py",
   "mimetype": "text/x-python",
   "name": "python",
   "nbconvert_exporter": "python",
   "pygments_lexer": "ipython3",
   "version": "3.7.7"
  }
 },
 "nbformat": 4,
 "nbformat_minor": 4
}
