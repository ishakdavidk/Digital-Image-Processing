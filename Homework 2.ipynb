{
 "cells": [
  {
   "cell_type": "code",
   "execution_count": 101,
   "metadata": {},
   "outputs": [],
   "source": [
    "import cv2\n",
    "import numpy as np"
   ]
  },
  {
   "cell_type": "code",
   "execution_count": 102,
   "metadata": {},
   "outputs": [],
   "source": [
    "def nothing(x):\n",
    "    pass\n",
    "\n",
    "def tracking(cap, l_h, u_h):\n",
    "    while(cap.isOpened()):\n",
    "        ret, frame=cap.read()\n",
    "        if ret:\n",
    "            # Convert BGR to HSV\n",
    "            hsv=cv2.cvtColor(frame, cv2.COLOR_BGR2HSV)\n",
    "\n",
    "            # define range of blue color in HSV\n",
    "            lower_color=np.array([l_h,50,50])\n",
    "            upper_color=np.array([u_h,255,255])\n",
    "\n",
    "            # Threshold the HSV image to get only blue colors\n",
    "            mask=cv2.inRange(hsv, lower_color, upper_color)\n",
    "\n",
    "            # Bitwise-AND mask and original image\n",
    "            res=cv2.bitwise_and(frame,frame, mask=mask)\n",
    "            cv2.imshow('frame',frame)\n",
    "            cv2.imshow('mask',mask)\n",
    "            cv2.imshow('res',res)\n",
    "\n",
    "        k=cv2.waitKey(5)&0xFF\n",
    "        if k==27:\n",
    "            break\n",
    "\n",
    "    cap.release()       \n",
    "    cv2.destroyAllWindows()"
   ]
  },
  {
   "cell_type": "code",
   "execution_count": 103,
   "metadata": {},
   "outputs": [],
   "source": [
    "cv2.namedWindow('frame')\n",
    "cap=cv2.VideoCapture(\"tracking1.avi\")\n",
    "\n",
    "tracking(cap, 140, 180)"
   ]
  },
  {
   "cell_type": "code",
   "execution_count": 104,
   "metadata": {},
   "outputs": [],
   "source": [
    "cv2.namedWindow('frame')\n",
    "cap=cv2.VideoCapture(\"tracking2.avi\")\n",
    "\n",
    "tracking(cap, 20, 40)"
   ]
  },
  {
   "cell_type": "code",
   "execution_count": 105,
   "metadata": {},
   "outputs": [],
   "source": [
    "cv2.namedWindow('frame')\n",
    "cap=cv2.VideoCapture(\"tracking3.avi\")\n",
    "\n",
    "tracking(cap, 175, 180)"
   ]
  },
  {
   "cell_type": "code",
   "execution_count": 106,
   "metadata": {},
   "outputs": [],
   "source": [
    "cv2.namedWindow('frame')\n",
    "cap=cv2.VideoCapture(\"tracking4.avi\")\n",
    "\n",
    "tracking(cap, 20, 40)"
   ]
  },
  {
   "cell_type": "code",
   "execution_count": null,
   "metadata": {},
   "outputs": [],
   "source": []
  }
 ],
 "metadata": {
  "kernelspec": {
   "display_name": "Python [conda env:tf2_gpu]",
   "language": "python",
   "name": "conda-env-tf2_gpu-py"
  },
  "language_info": {
   "codemirror_mode": {
    "name": "ipython",
    "version": 3
   },
   "file_extension": ".py",
   "mimetype": "text/x-python",
   "name": "python",
   "nbconvert_exporter": "python",
   "pygments_lexer": "ipython3",
   "version": "3.7.7"
  }
 },
 "nbformat": 4,
 "nbformat_minor": 4
}
